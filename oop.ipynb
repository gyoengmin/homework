{
 "cells": [
  {
   "cell_type": "code",
   "execution_count": 2,
   "metadata": {},
   "outputs": [],
   "source": [
    "from typing import List, Dict, Optional"
   ]
  },
  {
   "cell_type": "code",
   "execution_count": 22,
   "metadata": {},
   "outputs": [],
   "source": [
    "class VendingMachine:\n",
    "    price = 100_000\n",
    "\n",
    "    def __init__(self, machine_id: int, drink_prices: Dict[str, int]):\n",
    "        self.machine_id = machine_id\n",
    "        self.drink_prices = drink_prices\n",
    "        self.drink_num = {drink: 0 for drink in drink_prices.keys()}\n",
    "\n",
    "        self.money = 0\n",
    "\n",
    "    def return_money(self):\n",
    "        # 현재 투입된 돈을 반환하고, 현재 투입된 돈을 0으로 초기화합니다.\n",
    "        current_money = self.money\n",
    "        self.money = 0\n",
    "        return current_money\n",
    "\n",
    "    def sell_drink(self, drink: str, price: int) -> Optional[str]:\n",
    "        if self.drink_num[drink] > 0 and self.drink_prices[drink] == price:\n",
    "            # 음료수를 판매하고, 음료수의 이름을 반환합니다.\n",
    "            self.drink_num[drink] -= 1\n",
    "            self.money += price\n",
    "\n",
    "            return drink\n",
    "        else:\n",
    "            return None\n",
    "\n",
    "    def add_drink(self, drink: str, num: int):\n",
    "        self.drink_num[drink] += num\n",
    "\n",
    "    def print_drinks(self):\n",
    "        for (drink, price), num in zip(\n",
    "            self.drink_prices.items(), self.drink_num.values()\n",
    "        ):\n",
    "            print(\n",
    "                f\"{self.machine_id} 자판기의 {drink}의 가격은 {price}이고 현재 {num}개 남았습니다.\"\n",
    "            )"
   ]
  },
  {
   "cell_type": "code",
   "execution_count": 39,
   "metadata": {},
   "outputs": [],
   "source": [
    "class Boss:\n",
    "    def __init__(self, name: str, value: int):\n",
    "        self.name = name\n",
    "        self.value = value\n",
    "\n",
    "        self.machines: List[VendingMachine] = []\n",
    "\n",
    "    def buy_machine(self, machine_id: int):\n",
    "        if self.value >= VendingMachine.price:\n",
    "            # 자판기를 살 수 있는 만큼 돈이 있으면 자판기를 삽니다.\n",
    "            self.value -= VendingMachine.price\n",
    "\n",
    "            # 사장은 콜라 500원, 커피 500원을 가진 자판기를 삽니다.\n",
    "            machine = VendingMachine(machine_id, {\"콜라\": 500, \"커피\": 800})\n",
    "            # 사장은 콜라 10개, 커피 20개를 넣습니다.\n",
    "            machine.add_drink(\"콜라\", 10)\n",
    "            machine.add_drink(\"커피\", 20)\n",
    "\n",
    "            # 사장이 산 자판기를 저장합니다.\n",
    "            self.machines.append(machine)\n",
    "            return machine\n",
    "        else:\n",
    "            print(\"{self.name}은 현재 자판기를 살 돈이 부족합니다.\")\n",
    "            return None\n",
    "\n",
    "    def get_money_from_machine(self):\n",
    "        for machine in self.machines:\n",
    "            self.value += machine.return_money()"
   ]
  },
  {
   "cell_type": "code",
   "execution_count": 40,
   "metadata": {},
   "outputs": [],
   "source": [
    "class Customer:\n",
    "    def __init__(self, name: str, value: int):\n",
    "        self.name = name\n",
    "        self.value = value\n",
    "\n",
    "    def buy_drink(self, machine: VendingMachine, drink: str):\n",
    "        drink_price = machine.drink_prices[drink]\n",
    "\n",
    "        if self.value >= drink_price:\n",
    "            self.value -= drink_price\n",
    "            drink = machine.sell_drink(drink, drink_price)\n",
    "            print(f\"{self.name}은 {drink}를 샀습니다.\")\n",
    "        else:\n",
    "            print(\n",
    "                f\"{self.name}은 현재 {self.value}원이 있고, {drink}를 살 돈이 부족합니다.\"\n",
    "            )"
   ]
  },
  {
   "cell_type": "code",
   "execution_count": 51,
   "metadata": {},
   "outputs": [
    {
     "name": "stdout",
     "output_type": "stream",
     "text": [
      "200000\n"
     ]
    }
   ],
   "source": [
    "boss = Boss(\"김사장\", 1_200_000)\n",
    "machines: List[VendingMachine] = []\n",
    "\n",
    "# 사장은 10대의 자판기를 삽니다.\n",
    "for i in range(10):\n",
    "    machine = boss.buy_machine(i)\n",
    "    # 자판기들을 machines에 저장합니다.\n",
    "    machines.append(machine)\n",
    "\n",
    "print(boss.value)"
   ]
  },
  {
   "cell_type": "code",
   "execution_count": 52,
   "metadata": {},
   "outputs": [
    {
     "name": "stdout",
     "output_type": "stream",
     "text": [
      "손님_0은 현재 181원이 있고, 커피를 살 돈이 부족합니다.\n",
      "손님_1은 콜라를 샀습니다.\n",
      "손님_2은 현재 700원이 있고, 커피를 살 돈이 부족합니다.\n",
      "손님_3은 현재 297원이 있고, 커피를 살 돈이 부족합니다.\n",
      "손님_4은 현재 521원이 있고, 커피를 살 돈이 부족합니다.\n",
      "손님_5은 콜라를 샀습니다.\n",
      "손님_6은 현재 547원이 있고, 커피를 살 돈이 부족합니다.\n",
      "손님_7은 현재 416원이 있고, 커피를 살 돈이 부족합니다.\n",
      "손님_8은 현재 392원이 있고, 콜라를 살 돈이 부족합니다.\n",
      "손님_9은 현재 430원이 있고, 콜라를 살 돈이 부족합니다.\n"
     ]
    }
   ],
   "source": [
    "from random import randint, random\n",
    "\n",
    "customers = [Customer(f\"손님_{i}\", randint(100, 1000)) for i in range(10)]\n",
    "\n",
    "for customer in customers:\n",
    "    machine = machines[randint(0, 9)]\n",
    "\n",
    "    # 30% 확률로 콜라를 사고, 70% 확률로 커피를 삽니다.\n",
    "    if random() < 0.3:\n",
    "        customer.buy_drink(machine, \"콜라\")\n",
    "    else:\n",
    "        customer.buy_drink(machine, \"커피\")"
   ]
  },
  {
   "cell_type": "code",
   "execution_count": 53,
   "metadata": {},
   "outputs": [
    {
     "name": "stdout",
     "output_type": "stream",
     "text": [
      "0 자판기의 콜라의 가격은 500이고 현재 10개 남았습니다.\n",
      "0 자판기의 커피의 가격은 800이고 현재 20개 남았습니다.\n",
      "1 자판기의 콜라의 가격은 500이고 현재 9개 남았습니다.\n",
      "1 자판기의 커피의 가격은 800이고 현재 20개 남았습니다.\n",
      "2 자판기의 콜라의 가격은 500이고 현재 10개 남았습니다.\n",
      "2 자판기의 커피의 가격은 800이고 현재 20개 남았습니다.\n",
      "3 자판기의 콜라의 가격은 500이고 현재 10개 남았습니다.\n",
      "3 자판기의 커피의 가격은 800이고 현재 20개 남았습니다.\n",
      "4 자판기의 콜라의 가격은 500이고 현재 10개 남았습니다.\n",
      "4 자판기의 커피의 가격은 800이고 현재 20개 남았습니다.\n",
      "5 자판기의 콜라의 가격은 500이고 현재 9개 남았습니다.\n",
      "5 자판기의 커피의 가격은 800이고 현재 20개 남았습니다.\n",
      "6 자판기의 콜라의 가격은 500이고 현재 10개 남았습니다.\n",
      "6 자판기의 커피의 가격은 800이고 현재 20개 남았습니다.\n",
      "7 자판기의 콜라의 가격은 500이고 현재 10개 남았습니다.\n",
      "7 자판기의 커피의 가격은 800이고 현재 20개 남았습니다.\n",
      "8 자판기의 콜라의 가격은 500이고 현재 10개 남았습니다.\n",
      "8 자판기의 커피의 가격은 800이고 현재 20개 남았습니다.\n",
      "9 자판기의 콜라의 가격은 500이고 현재 10개 남았습니다.\n",
      "9 자판기의 커피의 가격은 800이고 현재 20개 남았습니다.\n"
     ]
    }
   ],
   "source": [
    "for machine in machines:\n",
    "    machine.print_drinks()"
   ]
  },
  {
   "cell_type": "code",
   "execution_count": 54,
   "metadata": {},
   "outputs": [
    {
     "name": "stdout",
     "output_type": "stream",
     "text": [
      "201000\n"
     ]
    }
   ],
   "source": [
    "boss.get_money_from_machine()\n",
    "print(boss.value)"
   ]
  },
  {
   "cell_type": "code",
   "execution_count": null,
   "metadata": {},
   "outputs": [],
   "source": []
  }
 ],
 "metadata": {
  "kernelspec": {
   "display_name": "base",
   "language": "python",
   "name": "python3"
  },
  "language_info": {
   "codemirror_mode": {
    "name": "ipython",
    "version": 3
   },
   "file_extension": ".py",
   "mimetype": "text/x-python",
   "name": "python",
   "nbconvert_exporter": "python",
   "pygments_lexer": "ipython3",
   "version": "3.10.14"
  }
 },
 "nbformat": 4,
 "nbformat_minor": 2
}
