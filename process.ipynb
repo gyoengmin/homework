{
 "cells": [
  {
   "cell_type": "code",
   "execution_count": 1,
   "metadata": {},
   "outputs": [],
   "source": [
    "import ujson as json\n",
    "\n",
    "with open(\"news.json\", \"r\") as f:\n",
    "    news_list = json.load(f)"
   ]
  },
  {
   "cell_type": "code",
   "execution_count": null,
   "metadata": {},
   "outputs": [],
   "source": [
    "print(news_list[0][\"title\"])\n",
    "print(news_list[0][\"text\"])"
   ]
  },
  {
   "cell_type": "code",
   "execution_count": null,
   "metadata": {},
   "outputs": [],
   "source": [
    "!pip install --upgrade kiwipiepy\n",
    "!pip install --upgrade wordcloud\n",
    "!pip install --upgrade tqdm"
   ]
  },
  {
   "cell_type": "code",
   "execution_count": 10,
   "metadata": {},
   "outputs": [],
   "source": [
    "from kiwipiepy import Kiwi\n",
    "from kiwipiepy.utils import Stopwords\n",
    "\n",
    "kiwi = Kiwi(model_type=\"sbg\")\n",
    "stopwords = Stopwords()"
   ]
  },
  {
   "cell_type": "code",
   "execution_count": null,
   "metadata": {},
   "outputs": [],
   "source": [
    "# 태그: https://github.com/bab2min/kiwipiepy#%ED%92%88%EC%82%AC-%ED%83%9C%EA%B7%B8\n",
    "\n",
    "kiwi.add_user_word(\"강경필\", \"NNG\")\n",
    "kiwi.tokenize(\n",
    "    \"헐 ㅋㅋㅋㅋ 이것도 되고 이건 되나욥 된다카이 강경필수업 강원대학교 재밌다 집에 놀러 간다 ㅋㅋdㅋㅋㅋ ㅎㅎㅎ NAACL\",\n",
    "    normalize_coda=True,\n",
    ")"
   ]
  },
  {
   "cell_type": "code",
   "execution_count": null,
   "metadata": {},
   "outputs": [],
   "source": [
    "from collections import Counter\n",
    "from tqdm import tqdm\n",
    "\n",
    "# 품사 목록(https://bab2min.github.io/kiwipiepy/v0.13.0/kr/#_9)를 참고해서 어떤 태그들을 사용하고 있는지 확인해 보세요.\n",
    "permitted_tags = {\"NNG\", \"NNP\", \"VV\", \"VA\", \"SL\"}\n",
    "counter = Counter()\n",
    "\n",
    "# tqdm은 진행 상황을 보여주는 라이브러리입니다.\n",
    "# mininterval=1은 1초 이상의 간격으로만 업데이트합니다. (너무 자주 업데이트해서 느려지는 것을 방지)\n",
    "for news in tqdm(news_list, total=len(news_list), mininterval=1):\n",
    "    body_text = news[\"text\"].strip()\n",
    "    if len(body_text) < 10:\n",
    "        continue\n",
    "\n",
    "    # 불용어 제거, 특정 품사이면서 길이가 2 이상인 단어만 추출\n",
    "    tokens = [\n",
    "        pos.form\n",
    "        for pos in kiwi.tokenize(body_text, normalize_coda=True, stopwords=stopwords)\n",
    "        if pos.tag in permitted_tags and len(pos.form) > 1\n",
    "    ]\n",
    "    counter.update(tokens)\n",
    "\n",
    "# 상위 단어 빈도 출력\n",
    "for word, count in counter.most_common(30):\n",
    "    print(word, count)"
   ]
  },
  {
   "cell_type": "code",
   "execution_count": null,
   "metadata": {},
   "outputs": [],
   "source": [
    "import matplotlib.font_manager as font_manager\n",
    "\n",
    "# 폰트 경로 확인\n",
    "font_list = font_manager.findSystemFonts(fontext=\"ttf\")\n",
    "\n",
    "print(font_list)"
   ]
  },
  {
   "cell_type": "code",
   "execution_count": null,
   "metadata": {},
   "outputs": [],
   "source": [
    "from wordcloud import WordCloud\n",
    "import matplotlib.pyplot as plt\n",
    "\n",
    "most_freq = counter.most_common(100)\n",
    "wc = WordCloud(\n",
    "    font_path=\"/Users/kyeongpil/Library/Fonts/NanumGothic.ttf\",  # 여기에 한글 지원되는 폰트 (나눔고딕) 경로를 넣어주세요\n",
    "    prefer_horizontal=1.0,\n",
    "    background_color=\"white\",\n",
    ")\n",
    "cloud = wc.generate_from_frequencies(dict(most_freq))\n",
    "\n",
    "plt.figure(figsize=(10, 8))\n",
    "plt.imshow(cloud)\n",
    "plt.show()"
   ]
  },
  {
   "cell_type": "code",
   "execution_count": null,
   "metadata": {},
   "outputs": [],
   "source": [
    "# 다음과 같이 고빈도 단어를 기준으로 단어 사전을 구축할 수 있습니다.\n",
    "vocab = [word for word, freq in counter.most_common() if freq >= 5]\n",
    "print(f\"단어 사전 크기: {len(vocab)}\")\n",
    "\n",
    "word2idx = {word: idx for idx, word in enumerate(vocab)}\n",
    "\n",
    "print(f\"\\\"강원대학교\\\"라는 단어의 index: {word2idx.get('강원대학교', -1)}\")"
   ]
  },
  {
   "cell_type": "code",
   "execution_count": null,
   "metadata": {},
   "outputs": [],
   "source": []
  }
 ],
 "metadata": {
  "kernelspec": {
   "display_name": "py3.10",
   "language": "python",
   "name": "python3"
  },
  "language_info": {
   "codemirror_mode": {
    "name": "ipython",
    "version": 3
   },
   "file_extension": ".py",
   "mimetype": "text/x-python",
   "name": "python",
   "nbconvert_exporter": "python",
   "pygments_lexer": "ipython3",
   "version": "3.10.14"
  }
 },
 "nbformat": 4,
 "nbformat_minor": 2
}
